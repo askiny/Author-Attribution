{
 "cells": [
  {
   "cell_type": "markdown",
   "id": "cb2f9ec1-187c-470d-994a-a9a047578a2c",
   "metadata": {},
   "source": [
    "## Data Cleaning and Model Building"
   ]
  },
  {
   "cell_type": "markdown",
   "id": "333fe82e-a92b-4683-9013-a226e82af5e8",
   "metadata": {},
   "source": [
    "Firstly, I imported all the libraries I need:"
   ]
  },
  {
   "cell_type": "code",
   "execution_count": 1,
   "id": "81d7cb88-f651-40c7-b525-6ae73b26990e",
   "metadata": {},
   "outputs": [
    {
     "name": "stderr",
     "output_type": "stream",
     "text": [
      "[nltk_data] Downloading package punkt to\n",
      "[nltk_data]     C:\\Users\\askin\\AppData\\Roaming\\nltk_data...\n",
      "[nltk_data]   Package punkt is already up-to-date!\n",
      "[nltk_data] Downloading package stopwords to\n",
      "[nltk_data]     C:\\Users\\askin\\AppData\\Roaming\\nltk_data...\n",
      "[nltk_data]   Package stopwords is already up-to-date!\n"
     ]
    },
    {
     "data": {
      "text/plain": [
       "True"
      ]
     },
     "execution_count": 1,
     "metadata": {},
     "output_type": "execute_result"
    }
   ],
   "source": [
    "import numpy as np\n",
    "import re\n",
    "from io import StringIO\n",
    "import nltk\n",
    "from gensim.models import Word2Vec\n",
    "from nltk.tokenize import sent_tokenize\n",
    "from nltk.corpus import stopwords\n",
    "from nltk.tokenize import word_tokenize\n",
    "from sklearn.feature_extraction.text import CountVectorizer\n",
    "from sklearn.feature_extraction.text import TfidfVectorizer\n",
    "from sklearn.model_selection import train_test_split\n",
    "from sklearn.linear_model import LogisticRegression\n",
    "from sklearn.metrics import confusion_matrix, classification_report\n",
    "import requests\n",
    "import matplotlib.pyplot as plt\n",
    "import pandas as pd\n",
    "\n",
    "\n",
    "nltk.download('punkt')\n",
    "nltk.download('stopwords')"
   ]
  },
  {
   "cell_type": "markdown",
   "id": "a6ec367a-a957-4a85-af43-6a74144ab183",
   "metadata": {},
   "source": [
    "I wrote a function the read the novels from URL."
   ]
  },
  {
   "cell_type": "code",
   "execution_count": 2,
   "id": "49bfd73d-511c-4efb-a1e6-61b98c4b8c89",
   "metadata": {},
   "outputs": [],
   "source": [
    "def novel_reader(url):\n",
    "    response = requests.get(url)\n",
    "\n",
    "    content = response.text\n",
    "\n",
    "    return content"
   ]
  },
  {
   "cell_type": "markdown",
   "id": "549a3eb6-769d-483e-9e03-fe80cd6c8dd1",
   "metadata": {},
   "source": [
    "And I called the function for both Austen's and Bronte's novels."
   ]
  },
  {
   "cell_type": "code",
   "execution_count": 4,
   "id": "90eb4c0b-df51-482e-82d2-7ba64bd005c1",
   "metadata": {},
   "outputs": [],
   "source": [
    "austen_url = \"https://www.gutenberg.org/cache/epub/1342/pg1342.txt\"\n",
    "austen_content = novel_reader(austen_url)\n",
    "\n",
    "bronte_url = \"https://www.gutenberg.org/cache/epub/1260/pg1260.txt\"\n",
    "bronte_content = novel_reader(bronte_url)"
   ]
  },
  {
   "cell_type": "markdown",
   "id": "097d8287-7319-432d-99e8-f313f55bba4b",
   "metadata": {},
   "source": [
    "I wrote the clean_novel function with re library to clean the content:\r\n",
    "\r\n",
    "- The first and second lines delete their visual depictions in the content. I don't know why I had to write two lines at the same time, but neither of them worked alone but together they completed the task.\r\n",
    "- The third line deletes \\n and \\r from the content.\r\n",
    "- The fourth line deletes spaces where there is more than one space in the content.\r\n",
    "- Fifth line deletes the \"CHAPTER\" expressions from the content.\r\n",
    "- The last line converts all content to lowercase.\r\n",
    "- Finally, function returns the cleaned text."
   ]
  },
  {
   "cell_type": "code",
   "execution_count": 5,
   "id": "a2cf79f2-f675-4326-84d3-db0a2d5da9b1",
   "metadata": {},
   "outputs": [],
   "source": [
    "def clean_novel(text):\n",
    "\n",
    "    clean_text = re.sub(r'\\[Illustration:[^\\]]*\\]', '', text)\n",
    "\n",
    "    clean_text = re.sub(r'\\[Illustration\\]', '', clean_text)\n",
    "\n",
    "    clean_text = re.sub(r'[\\n\\r]', ' ', clean_text)\n",
    "\n",
    "    clean_text = re.sub(r'\\s+', ' ', clean_text)\n",
    "\n",
    "    clean_text = re.sub(r'CHAPTER \\w+', '', clean_text)\n",
    "\n",
    "    clean_text = clean_text.lower()\n",
    "\n",
    "    return clean_text"
   ]
  },
  {
   "cell_type": "markdown",
   "id": "a7e12c9b-00ed-4dc4-b3f6-fe5fa2705fd6",
   "metadata": {},
   "source": [
    "And I called the function with both Austen's and Bronte's novels."
   ]
  },
  {
   "cell_type": "code",
   "execution_count": 6,
   "id": "6f9b03fd-8c22-4a21-9d31-c6110820070f",
   "metadata": {},
   "outputs": [],
   "source": [
    "clean_austen_text = clean_novel(austen_content)\n",
    "clean_bronte_text = clean_novel(bronte_content)"
   ]
  },
  {
   "cell_type": "markdown",
   "id": "b9b3e877-8c14-42d4-b66b-c0a8b65da674",
   "metadata": {},
   "source": [
    "I wrote a function to tokenize text into sentences."
   ]
  },
  {
   "cell_type": "code",
   "execution_count": 7,
   "id": "849b8d09-6bb4-42d1-b0f7-64f5c511de74",
   "metadata": {},
   "outputs": [],
   "source": [
    "def tokenizer(text):\n",
    "    tokened_text = nltk.sent_tokenize(text)\n",
    "\n",
    "    return tokened_text"
   ]
  },
  {
   "cell_type": "code",
   "execution_count": 8,
   "id": "dbbaaa53-cb89-49e2-b0dd-fb7974788ef7",
   "metadata": {},
   "outputs": [],
   "source": [
    "austen_sent_tokens = tokenizer(clean_austen_text)\n",
    "bronte_sent_tokens = tokenizer(clean_bronte_text)"
   ]
  },
  {
   "cell_type": "markdown",
   "id": "f0c4ae89-86f6-4c53-8dca-b2db8bcb5279",
   "metadata": {},
   "source": [
    "In some sentences in the texts, parts that belong to the novel and parts that do not belong to the novel are tokenized together. I cleared them manually for cleaner data."
   ]
  },
  {
   "cell_type": "code",
   "execution_count": 9,
   "id": "283ae8a1-0ac4-4982-871a-e1f2fd52d645",
   "metadata": {},
   "outputs": [],
   "source": [
    "change_austen = austen_sent_tokens.index(\"472 the end 476 it is a truth universally acknowledged, that a single man in possession of a good fortune must be in want of a wife.\")\n",
    "austen_sent_tokens[change_austen] = \"it is a truth universally acknowledged, that a single man in possession of a good fortune must be in want of a wife.\"\n",
    "\n",
    "change_bronte = bronte_sent_tokens.index(\"daily he announces more distinctly,—‘surely i come quickly!’ and hourly i more eagerly respond,—‘amen; even so come, lord jesus!’” *** end of the project gutenberg ebook jane eyre: an autobiography *** updated editions will replace the previous one—the old editions will be renamed.\")\n",
    "bronte_sent_tokens[change_bronte] = \"daily announces distinctly,—‘surely come quickly!’ hourly eagerly respond,—‘amen; even come, lord jesus!’”\"\n",
    "\n",
    "change_bronte_2 = bronte_sent_tokens.index(\"_april_ 13_th_, 1848.  there was no possibility of taking a walk that day.\")\n",
    "bronte_sent_tokens[change_bronte_2] = \"there was no possibility of taking a walk that day.\""
   ]
  },
  {
   "cell_type": "markdown",
   "id": "1eb46e7a-6a6d-4d6f-bd94-1d3c560ad9ca",
   "metadata": {},
   "source": [
    "Then, I determined the parts in the text where the novel begins and ends."
   ]
  },
  {
   "cell_type": "code",
   "execution_count": 10,
   "id": "f49ffda0-b542-4a27-b1ce-bcf00bb36ff2",
   "metadata": {},
   "outputs": [],
   "source": [
    "start_austen = austen_sent_tokens.index(\"it is a truth universally acknowledged, that a single man in possession of a good fortune must be in want of a wife.\")\n",
    "end_austen = austen_sent_tokens.index(\"darcy, as well as elizabeth, really loved them; and they were both ever sensible of the warmest gratitude towards the persons who, by bringing her into derbyshire, had been the means of uniting them.\")\n",
    "\n",
    "start_bronte = bronte_sent_tokens.index(\"there was no possibility of taking a walk that day.\")\n",
    "end_bronte = bronte_sent_tokens.index(\"daily announces distinctly,—‘surely come quickly!’ hourly eagerly respond,—‘amen; even come, lord jesus!’”\")"
   ]
  },
  {
   "cell_type": "markdown",
   "id": "965f7f19-8212-4284-95ae-3b1031ca2219",
   "metadata": {},
   "source": [
    "And used the begining and end parts in this function to get the pure novel."
   ]
  },
  {
   "cell_type": "code",
   "execution_count": 11,
   "id": "d427ebbd-2dff-4e9f-8b22-31e0f11f4e2e",
   "metadata": {},
   "outputs": [],
   "source": [
    "def get_pure_novel(text, start, end):\n",
    "    pure_text = text[start : end +1]\n",
    "\n",
    "    return pure_text"
   ]
  },
  {
   "cell_type": "code",
   "execution_count": 12,
   "id": "514c243a-9d45-45f8-87fd-42f16d749a86",
   "metadata": {},
   "outputs": [],
   "source": [
    "pure_austen_text = get_pure_novel(austen_sent_tokens, start_austen, end_austen)\n",
    "pure_bronte_text = get_pure_novel(bronte_sent_tokens, start_bronte, end_bronte)"
   ]
  },
  {
   "cell_type": "markdown",
   "id": "c6f33dd9-fda7-40c4-b9ea-7e415b4b4bab",
   "metadata": {},
   "source": [
    "In the code block below, made the list of labels.\n"
   ]
  },
  {
   "cell_type": "code",
   "execution_count": 13,
   "id": "6a35e498-727a-4f12-939e-1b6426fff289",
   "metadata": {},
   "outputs": [],
   "source": [
    "austen_labels = [0] * len(pure_austen_text)\n",
    "bronte_labels = [1] * len(pure_bronte_text)"
   ]
  },
  {
   "cell_type": "markdown",
   "id": "234b2e58-7671-4820-96f4-1ecaa329784f",
   "metadata": {},
   "source": [
    "I merged the Austen's and Bronte's novels in merged_list and also I merged the labels in merged_labels list."
   ]
  },
  {
   "cell_type": "code",
   "execution_count": 14,
   "id": "669f5e4c-78a3-4c69-9e58-29715256e0f9",
   "metadata": {},
   "outputs": [],
   "source": [
    "merged_list = []\n",
    "for sentence in pure_austen_text:\n",
    "    merged_list.append(sentence)\n",
    "\n",
    "for sentence in pure_bronte_text:\n",
    "    merged_list.append(sentence)\n",
    "\n",
    "merged_labels = austen_labels + bronte_labels"
   ]
  },
  {
   "cell_type": "markdown",
   "id": "ca76cbd1-741a-4782-b359-95f2285d1c1b",
   "metadata": {},
   "source": [
    "I checked the length of both merged_list and merged_labels to see if they are at the same length. If they weren't, I couldn't vectorize them."
   ]
  },
  {
   "cell_type": "code",
   "execution_count": 15,
   "id": "d8902055-81ac-4870-8001-9f56d63e50db",
   "metadata": {},
   "outputs": [
    {
     "data": {
      "text/plain": [
       "11452"
      ]
     },
     "execution_count": 15,
     "metadata": {},
     "output_type": "execute_result"
    }
   ],
   "source": [
    "len(merged_list)"
   ]
  },
  {
   "cell_type": "code",
   "execution_count": 16,
   "id": "f656a0d7-2c62-4a4b-8416-2936ef783a50",
   "metadata": {},
   "outputs": [
    {
     "data": {
      "text/plain": [
       "11452"
      ]
     },
     "execution_count": 16,
     "metadata": {},
     "output_type": "execute_result"
    }
   ],
   "source": [
    "len(merged_labels)"
   ]
  },
  {
   "cell_type": "markdown",
   "id": "2a16a7a6-2458-46b7-8e64-206fd454d286",
   "metadata": {},
   "source": [
    "I used the zip function to merge merged_label and merged_list without losing the index order."
   ]
  },
  {
   "cell_type": "code",
   "execution_count": 17,
   "id": "29f04415-b899-4126-9a2e-3e6b15b2e23e",
   "metadata": {},
   "outputs": [],
   "source": [
    "merged_data = list(zip(merged_list, merged_labels))"
   ]
  },
  {
   "cell_type": "markdown",
   "id": "8f07ab99-10cc-4357-9f48-6608bd15e214",
   "metadata": {},
   "source": [
    "- I vectorized and deleted stop words from merged_data.\n",
    "- I converted vectorized_data into array.\n",
    "- I splitted data into test and train.\n",
    "- I defined the regression model.\n",
    "- Then I finally made the prediction."
   ]
  },
  {
   "cell_type": "code",
   "execution_count": 18,
   "id": "6f317cdc-cca6-4960-b429-4b1c5b3e6efd",
   "metadata": {},
   "outputs": [],
   "source": [
    "vectorizer = TfidfVectorizer(stop_words='english')\n",
    "vectorized_data = vectorizer.fit_transform([item[0] for item in merged_data])\n",
    "\n",
    "vectorized_data = vectorized_data.toarray()\n",
    "\n",
    "text_train, text_test, label_train, label_test = train_test_split(vectorized_data, merged_labels, test_size=0.25, random_state=37)\n",
    "\n",
    "model = LogisticRegression(random_state=37)\n",
    "model.fit(text_train, label_train)\n",
    "\n",
    "label_prediction = model.predict(text_test)"
   ]
  },
  {
   "cell_type": "code",
   "execution_count": 19,
   "id": "9de3c931-b92a-4ec8-a6db-26678214a30b",
   "metadata": {},
   "outputs": [],
   "source": [
    "conf_matrix = confusion_matrix(label_test, label_prediction)\n",
    "class_report = classification_report(label_test, label_prediction)"
   ]
  },
  {
   "cell_type": "code",
   "execution_count": 20,
   "id": "7e7abe47-4ffc-488e-a418-d1a41daa9d62",
   "metadata": {},
   "outputs": [
    {
     "data": {
      "text/html": [
       "<div>\n",
       "<style scoped>\n",
       "    .dataframe tbody tr th:only-of-type {\n",
       "        vertical-align: middle;\n",
       "    }\n",
       "\n",
       "    .dataframe tbody tr th {\n",
       "        vertical-align: top;\n",
       "    }\n",
       "\n",
       "    .dataframe thead th {\n",
       "        text-align: right;\n",
       "    }\n",
       "</style>\n",
       "<table border=\"1\" class=\"dataframe\">\n",
       "  <thead>\n",
       "    <tr style=\"text-align: right;\">\n",
       "      <th></th>\n",
       "      <th>0</th>\n",
       "      <th>1</th>\n",
       "    </tr>\n",
       "  </thead>\n",
       "  <tbody>\n",
       "    <tr>\n",
       "      <th>0</th>\n",
       "      <td>836</td>\n",
       "      <td>355</td>\n",
       "    </tr>\n",
       "    <tr>\n",
       "      <th>1</th>\n",
       "      <td>62</td>\n",
       "      <td>1610</td>\n",
       "    </tr>\n",
       "  </tbody>\n",
       "</table>\n",
       "</div>"
      ],
      "text/plain": [
       "     0     1\n",
       "0  836   355\n",
       "1   62  1610"
      ]
     },
     "execution_count": 20,
     "metadata": {},
     "output_type": "execute_result"
    }
   ],
   "source": [
    "conf_matrix = pd.DataFrame(conf_matrix)\n",
    "conf_matrix"
   ]
  },
  {
   "cell_type": "code",
   "execution_count": 21,
   "id": "7f44c244-cf77-4619-a322-97adfbbee77c",
   "metadata": {},
   "outputs": [
    {
     "name": "stdout",
     "output_type": "stream",
     "text": [
      "              precision    recall  f1-score   support\n",
      "\n",
      "           0       0.93      0.70      0.80      1191\n",
      "           1       0.82      0.96      0.89      1672\n",
      "\n",
      "    accuracy                           0.85      2863\n",
      "   macro avg       0.88      0.83      0.84      2863\n",
      "weighted avg       0.87      0.85      0.85      2863\n",
      "\n"
     ]
    }
   ],
   "source": [
    "print(class_report)"
   ]
  },
  {
   "cell_type": "markdown",
   "id": "04f3a80c-fe7b-4152-ad39-f08e1f8af28c",
   "metadata": {},
   "source": [
    "## Analysis of the Model"
   ]
  },
  {
   "cell_type": "markdown",
   "id": "9afb4a65-885b-403d-936c-35deccfe4da4",
   "metadata": {},
   "source": [
    "Precision indicates how many of the samples predicted as a class actually belong to that class. That is, Austen, 93% of the samples predicted by the model are actually Austen, and for Bronte, 82% of the samples predicted by the model are actually Bronte."
   ]
  },
  {
   "cell_type": "code",
   "execution_count": 25,
   "id": "d209507e-fa85-4f90-bd75-d34764073680",
   "metadata": {},
   "outputs": [],
   "source": [
    "def plot_pie_graph(labels, sizes, colors, title=\"Pie Chart\"):\n",
    "    plt.figure(figsize = (4, 4))\n",
    "    plt.pie(sizes, labels = labels, colors = colors, autopct = '%1.1f%%', startangle = 50)\n",
    "    plt.title(title)\n",
    "    plt.axis('equal')\n",
    "    plt.show()"
   ]
  },
  {
   "cell_type": "markdown",
   "id": "5df4ff46-0983-4660-8fce-9b933bbf11cb",
   "metadata": {},
   "source": [
    "As can be seen, 93% of the sentences predicted to be Austen actually belong to Austen."
   ]
  },
  {
   "cell_type": "code",
   "execution_count": 26,
   "id": "a98db94a-1903-426a-890c-17c13c10da2e",
   "metadata": {},
   "outputs": [
    {
     "data": {
      "image/png": "[encoded data removed]",
      "text/plain": [
       "<Figure size 400x400 with 1 Axes>"
      ]
     },
     "metadata": {},
     "output_type": "display_data"
    }
   ],
   "source": [
    "labels = ['True Austen', 'False Austen']\n",
    "sizes = [0.93, 0.07]\n",
    "colors = ['purple', 'pink']\n",
    "\n",
    "plot_pie_graph(labels, sizes, colors, title = \"Precision for Austen\")"
   ]
  },
  {
   "cell_type": "markdown",
   "id": "2c2c0ce3-8515-47c3-820a-fe2ff6d857dc",
   "metadata": {},
   "source": [
    "As can be seen, 82% of the sentences predicted to be Bronte actually belong to Bronte. My guess is, the reason why the model was less successful in Bronte may be due to overfitting or underfitting due to the excess of stopwords. Or Austen's choice of more specific words in her writings may have helped her sentences be recognized."
   ]
  },
  {
   "cell_type": "code",
   "execution_count": 29,
   "id": "240f762c-19b4-4b51-8fe5-caafc497a0ad",
   "metadata": {},
   "outputs": [
    {
     "data": {
      "image/png": "[encoded data removed]",
      "text/plain": [
       "<Figure size 400x400 with 1 Axes>"
      ]
     },
     "metadata": {},
     "output_type": "display_data"
    }
   ],
   "source": [
    "labels = ['True Bronte', 'False Bronte']\n",
    "sizes = [0.82, 0.18]\n",
    "colors = ['purple', 'pink']\n",
    "\n",
    "plot_pie_graph(labels, sizes, colors, title = \"Precision for Bronte\")"
   ]
  },
  {
   "cell_type": "markdown",
   "id": "686d4e23-a6f5-4cd8-b157-579832c33be6",
   "metadata": {},
   "source": [
    "Recall indicates how much of the samples are correctly predicted to actually belong to that class. And we see that Austen's sentences are correctly predicted by 70% and 96% of Bronte's sentences are correctyl predicted."
   ]
  },
  {
   "cell_type": "code",
   "execution_count": 28,
   "id": "75c079eb-e59d-41ad-b1a7-99d8d62259fd",
   "metadata": {
    "scrolled": true
   },
   "outputs": [
    {
     "data": {
      "image/png": "[encoded data removed]",
      "text/plain": [
       "<Figure size 400x400 with 1 Axes>"
      ]
     },
     "metadata": {},
     "output_type": "display_data"
    }
   ],
   "source": [
    "labels = ['True Predict', 'False Predict']\n",
    "sizes = [0.70, 0.30]\n",
    "colors = ['red', 'beige']\n",
    "\n",
    "plot_pie_graph(labels, sizes, colors, title = \"Recall for Austen\")"
   ]
  },
  {
   "cell_type": "code",
   "execution_count": 30,
   "id": "9db46db2-a646-42c0-857e-4bf548a543b8",
   "metadata": {},
   "outputs": [
    {
     "data": {
      "image/png": "[encoded data removed]",
      "text/plain": [
       "<Figure size 400x400 with 1 Axes>"
      ]
     },
     "metadata": {},
     "output_type": "display_data"
    }
   ],
   "source": [
    "labels = ['True Predict', 'False Predict']\n",
    "sizes = [0.96, 0.04]\n",
    "colors = ['red', 'beige']\n",
    "\n",
    "plot_pie_graph(labels, sizes, colors, title = \"Recall for Austen\")"
   ]
  },
  {
   "cell_type": "markdown",
   "id": "93ffb86b-cbdf-4b08-8f17-77870a447f70",
   "metadata": {},
   "source": [
    "F1-Score measures the model's ability to handle both false positives and false negatives in a balanced manner. Since F1-Score values are close to 1, we can say that our model is partially more successful."
   ]
  },
  {
   "cell_type": "code",
   "execution_count": 31,
   "id": "b86d5b1e-d586-49f7-a871-050018825b17",
   "metadata": {},
   "outputs": [],
   "source": [
    "def plot_bar_graph(categories, values, xlabel, ylabel, color, title):\n",
    "    plt.figure(figsize = (5, 5))\n",
    "    plt.bar(categories, values, color = color)\n",
    "    plt.xlabel(xlabel)\n",
    "    plt.ylabel(ylabel)\n",
    "    plt.title(title)\n",
    "    plt.show()"
   ]
  },
  {
   "cell_type": "code",
   "execution_count": 32,
   "id": "46711ec5-d191-44df-a9a2-080282a7dd76",
   "metadata": {},
   "outputs": [
    {
     "data": {
      "image/png": "[encoded data removed]",
      "text/plain": [
       "<Figure size 500x500 with 1 Axes>"
      ]
     },
     "metadata": {},
     "output_type": "display_data"
    }
   ],
   "source": [
    "authors = ['Austen', 'Bronte']\n",
    "values = [0.80, 0.89]\n",
    "\n",
    "plot_bar_graph(authors, values, xlabel ='Authors', ylabel ='Score Points', color = 'pink', title =\"F-1 Scores of Model\")"
   ]
  },
  {
   "cell_type": "markdown",
   "id": "43906acc-ecd5-44bf-abee-6b62ef964d08",
   "metadata": {},
   "source": [
    "And \"Support\" is the number of data for each Author:"
   ]
  },
  {
   "cell_type": "code",
   "execution_count": 33,
   "id": "943c08bf-bcba-4112-924b-8509a8d7f4b5",
   "metadata": {},
   "outputs": [
    {
     "data": {
      "image/png": "[encoded data removed]",
      "text/plain": [
       "<Figure size 500x500 with 1 Axes>"
      ]
     },
     "metadata": {},
     "output_type": "display_data"
    }
   ],
   "source": [
    "authors = ['Austen', 'Bronte']\n",
    "values = [1191, 1672]\n",
    "\n",
    "plot_bar_graph(authors, values, xlabel ='Authors', ylabel ='Number of Data', color = 'red', title =\"Support of Model\")"
   ]
  }
 ],
 "metadata": {
  "kernelspec": {
   "display_name": "Python 3 (ipykernel)",
   "language": "python",
   "name": "python3"
  },
  "language_info": {
   "codemirror_mode": {
    "name": "ipython",
    "version": 3
   },
   "file_extension": ".py",
   "mimetype": "text/x-python",
   "name": "python",
   "nbconvert_exporter": "python",
   "pygments_lexer": "ipython3",
   "version": "3.11.5"
  }
 },
 "nbformat": 4,
 "nbformat_minor": 5
}
